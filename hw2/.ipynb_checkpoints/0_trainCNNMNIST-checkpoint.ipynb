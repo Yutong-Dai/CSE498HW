{
 "cells": [
  {
   "cell_type": "code",
   "execution_count": 1,
   "metadata": {},
   "outputs": [],
   "source": [
    "import pickle\n",
    "import os.path\n",
    "import argparse\n",
    "from matplotlib import  pyplot as plt\n",
    "from utils import *\n",
    "from cnnMNIST import CNNMNIST\n",
    "import random\n",
    "\n",
    "import torch\n",
    "import torchvision\n",
    "import torch.nn.functional as F\n",
    "import torchvision.transforms as transforms\n",
    "import torch.optim as optim\n",
    "import torch.backends.cudnn as cudnn\n",
    "\n",
    "\n",
    "dataDir = f'../db'\n",
    "modelDir = f'./model'\n",
    "logDir = f'./log'"
   ]
  },
  {
   "cell_type": "code",
   "execution_count": 2,
   "metadata": {},
   "outputs": [
    {
     "name": "stdout",
     "output_type": "stream",
     "text": [
      "# train samples: 60000 | # test samples:10000\n",
      "per image size: 28*28\n"
     ]
    }
   ],
   "source": [
    "torch.manual_seed(1) \n",
    "random.seed(1) \n",
    "# reference for RandomCrop and RandomHorizontalFlip\n",
    "# https://stackoverflow.com/questions/51677788/data-augmentation-in-pytorch\n",
    "transform_train = transforms.Compose([\n",
    "    transforms.RandomCrop(28, padding=4),\n",
    "    transforms.RandomHorizontalFlip(),\n",
    "    transforms.ToTensor(),\n",
    "    transforms.Normalize((0.1307,), (0.3081,))\n",
    "])\n",
    "\n",
    "transform_test = transforms.Compose([\n",
    "    transforms.ToTensor(),\n",
    "    transforms.Normalize((0.1307,), (0.3081,))\n",
    "])\n",
    "\n",
    "trainset = torchvision.datasets.MNIST(dataDir, train=True,  download=False, transform=transform_train)\n",
    "trainloader = torch.utils.data.DataLoader(trainset, batch_size=128,\n",
    "                                          shuffle=True, num_workers=2)\n",
    "testset = torchvision.datasets.MNIST(dataDir, train=False,  download=False, transform=transform_test)\n",
    "testloader = torch.utils.data.DataLoader(testset, batch_size=128,\n",
    "                                         shuffle=False, num_workers=2)\n",
    "nTrainSamples, width, height = trainset.data.shape\n",
    "nTestSamples, width, height = testset.data.shape\n",
    "print(f'# train samples: {nTrainSamples} | # test samples:{nTestSamples}')\n",
    "print(f'per image size: {width}*{height}')"
   ]
  },
  {
   "cell_type": "code",
   "execution_count": 3,
   "metadata": {},
   "outputs": [],
   "source": [
    "net = CNNMNIST()\n",
    "criterion = torch.nn.CrossEntropyLoss()\n",
    "netname=f'mnist-cnn'\n",
    "# choose optimizer\n",
    "optimizer = optim.SGD(net.parameters(), lr=0.01, momentum=0.9, weight_decay=5e-4, nesterov=True)\n",
    "logFilePath= f'{logDir}/{netname}'\n",
    "logger = Logger(logFilePath)\n",
    "criterion = torch.nn.CrossEntropyLoss()\n",
    "checkpointPath = f'{modelDir}/{netname}-checkpoint.pth.tar'\n",
    "netclf = TrainAndTest(net, trainloader, testloader, \n",
    "                           criterion, optimizer, netname=netname)\n",
    "netclf.build(start_epoch=0, total_epochs=50, checkpointPath=checkpointPath, \n",
    "                           logger=logger, modelDir=modelDir, vectorize=False)"
   ]
  },
  {
   "cell_type": "code",
   "execution_count": null,
   "metadata": {},
   "outputs": [],
   "source": []
  }
 ],
 "metadata": {
  "kernelspec": {
   "display_name": "Python 3",
   "language": "python",
   "name": "python3"
  },
  "language_info": {
   "codemirror_mode": {
    "name": "ipython",
    "version": 3
   },
   "file_extension": ".py",
   "mimetype": "text/x-python",
   "name": "python",
   "nbconvert_exporter": "python",
   "pygments_lexer": "ipython3",
   "version": "3.8.3"
  }
 },
 "nbformat": 4,
 "nbformat_minor": 4
}
